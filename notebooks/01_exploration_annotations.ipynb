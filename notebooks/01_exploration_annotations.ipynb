{
 "cells": [
  {
   "cell_type": "code",
   "execution_count": 1,
   "id": "35332818-c5da-4da0-a48b-9731c5d6ecd9",
   "metadata": {},
   "outputs": [],
   "source": [
    "import os\n",
    "import json \n",
    "import pandas as pd"
   ]
  },
  {
   "cell_type": "code",
   "execution_count": 2,
   "id": "7fe84177-49f8-47ea-9247-805128cf67ac",
   "metadata": {},
   "outputs": [],
   "source": [
    "DATA_FOLDER = os.path.join(os.path.abspath(\"\"), \"..\", \"data\", \"annotated\")"
   ]
  },
  {
   "cell_type": "code",
   "execution_count": 3,
   "id": "ebb98567-9fca-4161-bbf6-872115204317",
   "metadata": {},
   "outputs": [
    {
     "data": {
      "text/html": [
       "<div>\n",
       "<style scoped>\n",
       "    .dataframe tbody tr th:only-of-type {\n",
       "        vertical-align: middle;\n",
       "    }\n",
       "\n",
       "    .dataframe tbody tr th {\n",
       "        vertical-align: top;\n",
       "    }\n",
       "\n",
       "    .dataframe thead th {\n",
       "        text-align: right;\n",
       "    }\n",
       "</style>\n",
       "<table border=\"1\" class=\"dataframe\">\n",
       "  <thead>\n",
       "    <tr style=\"text-align: right;\">\n",
       "      <th></th>\n",
       "      <th>id</th>\n",
       "      <th>checksum</th>\n",
       "      <th>annotations</th>\n",
       "      <th>timestamp</th>\n",
       "      <th>start</th>\n",
       "      <th>end</th>\n",
       "      <th>label</th>\n",
       "      <th>text</th>\n",
       "    </tr>\n",
       "  </thead>\n",
       "  <tbody>\n",
       "    <tr>\n",
       "      <th>0</th>\n",
       "      <td>672d22474e0888abb7bfa1b1</td>\n",
       "      <td>717d19039e1b053fe9b8a39270fcd285</td>\n",
       "      <td>{'start': 924, 'end': 962, 'label': 'article',...</td>\n",
       "      <td>2024-11-18 19:56:33.889071</td>\n",
       "      <td>924</td>\n",
       "      <td>962</td>\n",
       "      <td>article</td>\n",
       "      <td>article 28 du code de procédure civile</td>\n",
       "    </tr>\n",
       "    <tr>\n",
       "      <th>0</th>\n",
       "      <td>672d22474e0888abb7bfa1b1</td>\n",
       "      <td>717d19039e1b053fe9b8a39270fcd285</td>\n",
       "      <td>{'start': 1152, 'end': 1191, 'label': 'article...</td>\n",
       "      <td>2024-11-18 19:56:33.889071</td>\n",
       "      <td>1152</td>\n",
       "      <td>1191</td>\n",
       "      <td>article</td>\n",
       "      <td>article 462 du code de procédure civile</td>\n",
       "    </tr>\n",
       "    <tr>\n",
       "      <th>1</th>\n",
       "      <td>672c98ef75a19b13ac453303</td>\n",
       "      <td>2b873a7fc7a9f33d488bfe7544128901</td>\n",
       "      <td>{'start': 1703, 'end': 1756, 'label': 'article...</td>\n",
       "      <td>2024-11-18 19:56:33.889071</td>\n",
       "      <td>1703</td>\n",
       "      <td>1756</td>\n",
       "      <td>article</td>\n",
       "      <td>article 1014, alinéa 1er, du code de procédure...</td>\n",
       "    </tr>\n",
       "    <tr>\n",
       "      <th>1</th>\n",
       "      <td>672c98ef75a19b13ac453303</td>\n",
       "      <td>2b873a7fc7a9f33d488bfe7544128901</td>\n",
       "      <td>{'start': 1988, 'end': 2027, 'label': 'article...</td>\n",
       "      <td>2024-11-18 19:56:33.889071</td>\n",
       "      <td>1988</td>\n",
       "      <td>2027</td>\n",
       "      <td>article</td>\n",
       "      <td>article 700 du code de procédure civile</td>\n",
       "    </tr>\n",
       "    <tr>\n",
       "      <th>2</th>\n",
       "      <td>672d11e14e0888abb7bf5dab</td>\n",
       "      <td>9f28ffd5b4fc73b4efe9d9dd849cb7d8</td>\n",
       "      <td>{'start': 3103, 'end': 3142, 'label': 'article...</td>\n",
       "      <td>2024-11-18 19:56:33.889071</td>\n",
       "      <td>3103</td>\n",
       "      <td>3142</td>\n",
       "      <td>article</td>\n",
       "      <td>article 700 du code de procédure civile</td>\n",
       "    </tr>\n",
       "  </tbody>\n",
       "</table>\n",
       "</div>"
      ],
      "text/plain": [
       "                         id                          checksum  \\\n",
       "0  672d22474e0888abb7bfa1b1  717d19039e1b053fe9b8a39270fcd285   \n",
       "0  672d22474e0888abb7bfa1b1  717d19039e1b053fe9b8a39270fcd285   \n",
       "1  672c98ef75a19b13ac453303  2b873a7fc7a9f33d488bfe7544128901   \n",
       "1  672c98ef75a19b13ac453303  2b873a7fc7a9f33d488bfe7544128901   \n",
       "2  672d11e14e0888abb7bf5dab  9f28ffd5b4fc73b4efe9d9dd849cb7d8   \n",
       "\n",
       "                                         annotations  \\\n",
       "0  {'start': 924, 'end': 962, 'label': 'article',...   \n",
       "0  {'start': 1152, 'end': 1191, 'label': 'article...   \n",
       "1  {'start': 1703, 'end': 1756, 'label': 'article...   \n",
       "1  {'start': 1988, 'end': 2027, 'label': 'article...   \n",
       "2  {'start': 3103, 'end': 3142, 'label': 'article...   \n",
       "\n",
       "                    timestamp  start   end    label  \\\n",
       "0  2024-11-18 19:56:33.889071    924   962  article   \n",
       "0  2024-11-18 19:56:33.889071   1152  1191  article   \n",
       "1  2024-11-18 19:56:33.889071   1703  1756  article   \n",
       "1  2024-11-18 19:56:33.889071   1988  2027  article   \n",
       "2  2024-11-18 19:56:33.889071   3103  3142  article   \n",
       "\n",
       "                                                text  \n",
       "0             article 28 du code de procédure civile  \n",
       "0            article 462 du code de procédure civile  \n",
       "1  article 1014, alinéa 1er, du code de procédure...  \n",
       "1            article 700 du code de procédure civile  \n",
       "2            article 700 du code de procédure civile  "
      ]
     },
     "execution_count": 3,
     "metadata": {},
     "output_type": "execute_result"
    }
   ],
   "source": [
    "with open(os.path.join(DATA_FOLDER, \"annotated_data.json\"), \"r\", encoding=\"utf-8\") as file:\n",
    "    data = json.load(file)\n",
    "\n",
    "df = pd.DataFrame(data)\n",
    "df = df.explode(\"annotations\")\n",
    "df = df[df[\"annotations\"].notna()]\n",
    "\n",
    "\n",
    "for c in [\"start\", \"end\", \"label\", \"text\"]:\n",
    "    df[c] = df[\"annotations\"].apply(lambda x: x[c] if x else None)\n",
    "df.head()\n"
   ]
  },
  {
   "cell_type": "code",
   "execution_count": 4,
   "id": "bc4a2d23-4c6e-4394-a2c7-fb30832ad8a3",
   "metadata": {},
   "outputs": [
    {
     "data": {
      "text/plain": [
       "(833, 8)"
      ]
     },
     "execution_count": 4,
     "metadata": {},
     "output_type": "execute_result"
    }
   ],
   "source": [
    "df.shape"
   ]
  },
  {
   "cell_type": "code",
   "execution_count": 5,
   "id": "a4f23ca5-ebe6-4a06-9c05-f1268f487c68",
   "metadata": {},
   "outputs": [
    {
     "data": {
      "text/plain": [
       "text\n",
       "article 700 du code de procédure civile                                                      128\n",
       "article 455 du code de procédure civile                                                       17\n",
       "article 1014, alinéa 1er, du code de procédure civile                                         13\n",
       "article 450 du code de procédure civile                                                       10\n",
       "article 1343-2 du code civil                                                                   9\n",
       "                                                                                            ... \n",
       "article 1213 du code civil dans sa rédaction antérieure à l'ordonnance du 10 février 2016      1\n",
       "articles 382 du code de procédure civile                                                       1\n",
       "articles 452 et 456 du code de procédure civile                                                1\n",
       "article 514-1 du même code                                                                     1\n",
       "l'alinéa 3 de l'article 381 du code de procédure civile                                        1\n",
       "Name: count, Length: 460, dtype: int64"
      ]
     },
     "execution_count": 5,
     "metadata": {},
     "output_type": "execute_result"
    }
   ],
   "source": [
    "df['text'].str.lower().value_counts()"
   ]
  },
  {
   "cell_type": "code",
   "execution_count": 6,
   "id": "67895b20-7b82-46f4-8c43-c2af71d88efa",
   "metadata": {},
   "outputs": [],
   "source": [
    "import re\n",
    "\n",
    "\n",
    "def deaccent(text):\n",
    "    \"\"\"Remove letter accents from the given string.\n",
    "    Parameters\n",
    "    ----------\n",
    "    text : str\n",
    "        Input string.\n",
    "    Returns\n",
    "    -------\n",
    "    str\n",
    "        Unicode string without accents.\n",
    "    Examples\n",
    "    --------\n",
    "        >>> from juritools.utils import deaccent\n",
    "        >>> deaccent(\"ÀÁÂÃÄàáâãäÈÉÊËèéêëÍÌÎÏíìîïÒÓÔÕÖòóôõöÙÚÛÜùúûüÑñÇç\")\n",
    "        u'AAAAAaaaaaEEEEeeeeIIIIiiiiOOOOOoooooUUUUuuuuNnCc'\n",
    "    \"\"\"\n",
    "    mapping = {\n",
    "        \"A\": \"ÀÁÂÃÄÅÆ\",\n",
    "        \"C\": \"Ç\",\n",
    "        \"E\": \"ÈÉÊË\",\n",
    "        \"I\": \"ÌÍÎÏ\",\n",
    "        \"N\": \"Ñ\",\n",
    "        \"O\": \"ÒÓÔÕÖ\",\n",
    "        \"U\": \"ÙÚÛÜ\",\n",
    "        \"Y\": \"Ý\",\n",
    "        \"a\": \"àáâãäåæ\",\n",
    "        \"c\": \"ç\",\n",
    "        \"e\": \"èéêë\",\n",
    "        \"i\": \"ìíîï\",\n",
    "        \"n\": \"ñ\",\n",
    "        \"o\": \"òóôõö\",\n",
    "        \"u\": \"ùúûüũ\",\n",
    "        \"y\": \"ýŷÿ\",\n",
    "    }\n",
    "    if not isinstance(text, str):\n",
    "        # assume utf8 for byte strings, use default (strict) error handling\n",
    "        text = text.decode(\"utf8\")\n",
    "    for letter, letter_accent in mapping.items():\n",
    "        text = re.sub(rf\"[{letter_accent}]\", letter, text)\n",
    "    return text"
   ]
  },
  {
   "cell_type": "code",
   "execution_count": 7,
   "id": "4db29c91-0a4d-4fe6-9056-b4bdb65790ca",
   "metadata": {},
   "outputs": [],
   "source": [
    "df[\"clean_text\"] = df[\"text\"].str.lower().apply(deaccent)"
   ]
  },
  {
   "cell_type": "code",
   "execution_count": 8,
   "id": "be20ec8c-e3c0-47eb-bea4-565f74a56285",
   "metadata": {},
   "outputs": [],
   "source": [
    "CODES = [\n",
    "    \"code civil\",\n",
    "    \"code penal\",\n",
    "    \"code de procedure civile\",\n",
    "    \"code de procedure penale\",\n",
    "    \"code de l'organisation judiciaire\",\n",
    "]\n",
    "\n",
    "\n",
    "\n",
    "for code in CODES:\n",
    "    df[code.replace(\" \", \"_\").replace(\"'\", \"\")] = df[\"clean_text\"].str.contains(code)"
   ]
  },
  {
   "cell_type": "code",
   "execution_count": 9,
   "id": "6050f3c7-ae7a-4b2d-94e4-7a04dbe1deca",
   "metadata": {},
   "outputs": [
    {
     "data": {
      "text/html": [
       "<div>\n",
       "<style scoped>\n",
       "    .dataframe tbody tr th:only-of-type {\n",
       "        vertical-align: middle;\n",
       "    }\n",
       "\n",
       "    .dataframe tbody tr th {\n",
       "        vertical-align: top;\n",
       "    }\n",
       "\n",
       "    .dataframe thead th {\n",
       "        text-align: right;\n",
       "    }\n",
       "</style>\n",
       "<table border=\"1\" class=\"dataframe\">\n",
       "  <thead>\n",
       "    <tr style=\"text-align: right;\">\n",
       "      <th></th>\n",
       "      <th>id</th>\n",
       "      <th>checksum</th>\n",
       "      <th>annotations</th>\n",
       "      <th>timestamp</th>\n",
       "      <th>start</th>\n",
       "      <th>end</th>\n",
       "      <th>label</th>\n",
       "      <th>text</th>\n",
       "      <th>clean_text</th>\n",
       "      <th>code_civil</th>\n",
       "      <th>code_penal</th>\n",
       "      <th>code_de_procedure_civile</th>\n",
       "      <th>code_de_procedure_penale</th>\n",
       "      <th>code_de_lorganisation_judiciaire</th>\n",
       "    </tr>\n",
       "  </thead>\n",
       "  <tbody>\n",
       "    <tr>\n",
       "      <th>0</th>\n",
       "      <td>672d22474e0888abb7bfa1b1</td>\n",
       "      <td>717d19039e1b053fe9b8a39270fcd285</td>\n",
       "      <td>{'start': 924, 'end': 962, 'label': 'article',...</td>\n",
       "      <td>2024-11-18 19:56:33.889071</td>\n",
       "      <td>924</td>\n",
       "      <td>962</td>\n",
       "      <td>article</td>\n",
       "      <td>article 28 du code de procédure civile</td>\n",
       "      <td>article 28 du code de procedure civile</td>\n",
       "      <td>False</td>\n",
       "      <td>False</td>\n",
       "      <td>True</td>\n",
       "      <td>False</td>\n",
       "      <td>False</td>\n",
       "    </tr>\n",
       "    <tr>\n",
       "      <th>0</th>\n",
       "      <td>672d22474e0888abb7bfa1b1</td>\n",
       "      <td>717d19039e1b053fe9b8a39270fcd285</td>\n",
       "      <td>{'start': 1152, 'end': 1191, 'label': 'article...</td>\n",
       "      <td>2024-11-18 19:56:33.889071</td>\n",
       "      <td>1152</td>\n",
       "      <td>1191</td>\n",
       "      <td>article</td>\n",
       "      <td>article 462 du code de procédure civile</td>\n",
       "      <td>article 462 du code de procedure civile</td>\n",
       "      <td>False</td>\n",
       "      <td>False</td>\n",
       "      <td>True</td>\n",
       "      <td>False</td>\n",
       "      <td>False</td>\n",
       "    </tr>\n",
       "    <tr>\n",
       "      <th>1</th>\n",
       "      <td>672c98ef75a19b13ac453303</td>\n",
       "      <td>2b873a7fc7a9f33d488bfe7544128901</td>\n",
       "      <td>{'start': 1703, 'end': 1756, 'label': 'article...</td>\n",
       "      <td>2024-11-18 19:56:33.889071</td>\n",
       "      <td>1703</td>\n",
       "      <td>1756</td>\n",
       "      <td>article</td>\n",
       "      <td>article 1014, alinéa 1er, du code de procédure...</td>\n",
       "      <td>article 1014, alinea 1er, du code de procedure...</td>\n",
       "      <td>False</td>\n",
       "      <td>False</td>\n",
       "      <td>True</td>\n",
       "      <td>False</td>\n",
       "      <td>False</td>\n",
       "    </tr>\n",
       "    <tr>\n",
       "      <th>1</th>\n",
       "      <td>672c98ef75a19b13ac453303</td>\n",
       "      <td>2b873a7fc7a9f33d488bfe7544128901</td>\n",
       "      <td>{'start': 1988, 'end': 2027, 'label': 'article...</td>\n",
       "      <td>2024-11-18 19:56:33.889071</td>\n",
       "      <td>1988</td>\n",
       "      <td>2027</td>\n",
       "      <td>article</td>\n",
       "      <td>article 700 du code de procédure civile</td>\n",
       "      <td>article 700 du code de procedure civile</td>\n",
       "      <td>False</td>\n",
       "      <td>False</td>\n",
       "      <td>True</td>\n",
       "      <td>False</td>\n",
       "      <td>False</td>\n",
       "    </tr>\n",
       "    <tr>\n",
       "      <th>2</th>\n",
       "      <td>672d11e14e0888abb7bf5dab</td>\n",
       "      <td>9f28ffd5b4fc73b4efe9d9dd849cb7d8</td>\n",
       "      <td>{'start': 3103, 'end': 3142, 'label': 'article...</td>\n",
       "      <td>2024-11-18 19:56:33.889071</td>\n",
       "      <td>3103</td>\n",
       "      <td>3142</td>\n",
       "      <td>article</td>\n",
       "      <td>article 700 du code de procédure civile</td>\n",
       "      <td>article 700 du code de procedure civile</td>\n",
       "      <td>False</td>\n",
       "      <td>False</td>\n",
       "      <td>True</td>\n",
       "      <td>False</td>\n",
       "      <td>False</td>\n",
       "    </tr>\n",
       "  </tbody>\n",
       "</table>\n",
       "</div>"
      ],
      "text/plain": [
       "                         id                          checksum  \\\n",
       "0  672d22474e0888abb7bfa1b1  717d19039e1b053fe9b8a39270fcd285   \n",
       "0  672d22474e0888abb7bfa1b1  717d19039e1b053fe9b8a39270fcd285   \n",
       "1  672c98ef75a19b13ac453303  2b873a7fc7a9f33d488bfe7544128901   \n",
       "1  672c98ef75a19b13ac453303  2b873a7fc7a9f33d488bfe7544128901   \n",
       "2  672d11e14e0888abb7bf5dab  9f28ffd5b4fc73b4efe9d9dd849cb7d8   \n",
       "\n",
       "                                         annotations  \\\n",
       "0  {'start': 924, 'end': 962, 'label': 'article',...   \n",
       "0  {'start': 1152, 'end': 1191, 'label': 'article...   \n",
       "1  {'start': 1703, 'end': 1756, 'label': 'article...   \n",
       "1  {'start': 1988, 'end': 2027, 'label': 'article...   \n",
       "2  {'start': 3103, 'end': 3142, 'label': 'article...   \n",
       "\n",
       "                    timestamp  start   end    label  \\\n",
       "0  2024-11-18 19:56:33.889071    924   962  article   \n",
       "0  2024-11-18 19:56:33.889071   1152  1191  article   \n",
       "1  2024-11-18 19:56:33.889071   1703  1756  article   \n",
       "1  2024-11-18 19:56:33.889071   1988  2027  article   \n",
       "2  2024-11-18 19:56:33.889071   3103  3142  article   \n",
       "\n",
       "                                                text  \\\n",
       "0             article 28 du code de procédure civile   \n",
       "0            article 462 du code de procédure civile   \n",
       "1  article 1014, alinéa 1er, du code de procédure...   \n",
       "1            article 700 du code de procédure civile   \n",
       "2            article 700 du code de procédure civile   \n",
       "\n",
       "                                          clean_text  code_civil  code_penal  \\\n",
       "0             article 28 du code de procedure civile       False       False   \n",
       "0            article 462 du code de procedure civile       False       False   \n",
       "1  article 1014, alinea 1er, du code de procedure...       False       False   \n",
       "1            article 700 du code de procedure civile       False       False   \n",
       "2            article 700 du code de procedure civile       False       False   \n",
       "\n",
       "   code_de_procedure_civile  code_de_procedure_penale  \\\n",
       "0                      True                     False   \n",
       "0                      True                     False   \n",
       "1                      True                     False   \n",
       "1                      True                     False   \n",
       "2                      True                     False   \n",
       "\n",
       "   code_de_lorganisation_judiciaire  \n",
       "0                             False  \n",
       "0                             False  \n",
       "1                             False  \n",
       "1                             False  \n",
       "2                             False  "
      ]
     },
     "execution_count": 9,
     "metadata": {},
     "output_type": "execute_result"
    }
   ],
   "source": [
    "df.head()"
   ]
  },
  {
   "cell_type": "code",
   "execution_count": 10,
   "id": "5ce76a79-7dfa-475d-a235-ba103586da14",
   "metadata": {},
   "outputs": [
    {
     "data": {
      "text/plain": [
       "99"
      ]
     },
     "execution_count": 10,
     "metadata": {},
     "output_type": "execute_result"
    }
   ],
   "source": [
    "df[\"code_civil\"].sum()"
   ]
  },
  {
   "cell_type": "code",
   "execution_count": 11,
   "id": "ba107db2-b95f-497e-a575-8be084122567",
   "metadata": {},
   "outputs": [
    {
     "data": {
      "text/plain": [
       "377"
      ]
     },
     "execution_count": 11,
     "metadata": {},
     "output_type": "execute_result"
    }
   ],
   "source": [
    "df[\"code_de_procedure_civile\"].sum()"
   ]
  },
  {
   "cell_type": "code",
   "execution_count": 12,
   "id": "96d783ba-7c2c-435d-899d-89864c104af7",
   "metadata": {},
   "outputs": [
    {
     "data": {
      "text/plain": [
       "26"
      ]
     },
     "execution_count": 12,
     "metadata": {},
     "output_type": "execute_result"
    }
   ],
   "source": [
    "df[\"code_de_procedure_penale\"].sum()"
   ]
  },
  {
   "cell_type": "code",
   "execution_count": null,
   "id": "365db894-7760-46d6-8654-d165447646d3",
   "metadata": {},
   "outputs": [],
   "source": []
  }
 ],
 "metadata": {
  "kernelspec": {
   "display_name": "Python 3 (ipykernel)",
   "language": "python",
   "name": "python3"
  },
  "language_info": {
   "codemirror_mode": {
    "name": "ipython",
    "version": 3
   },
   "file_extension": ".py",
   "mimetype": "text/x-python",
   "name": "python",
   "nbconvert_exporter": "python",
   "pygments_lexer": "ipython3",
   "version": "3.10.12"
  }
 },
 "nbformat": 4,
 "nbformat_minor": 5
}
